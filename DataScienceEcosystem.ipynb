{
  "metadata": {
    "kernelspec": {
      "name": "python",
      "display_name": "Python (Pyodide)",
      "language": "python"
    },
    "language_info": {
      "codemirror_mode": {
        "name": "python",
        "version": 3
      },
      "file_extension": ".py",
      "mimetype": "text/x-python",
      "name": "python",
      "nbconvert_exporter": "python",
      "pygments_lexer": "ipython3",
      "version": "3.8"
    }
  },
  "nbformat_minor": 5,
  "nbformat": 4,
  "cells": [
    {
      "id": "7be9181e-0fd1-4b04-848c-defb695718a6",
      "cell_type": "markdown",
      "source": "# Data Science Tools and Ecosystem\n",
      "metadata": {}
    },
    {
      "id": "9a670d30-03c7-4e61-8f63-90ce4abb3644",
      "cell_type": "markdown",
      "source": "In this notebook, Data Science Tools and Ecosystem are summarized.\n",
      "metadata": {}
    },
    {
      "id": "ecf21206-c911-4a7e-80c6-4bf636830d3d",
      "cell_type": "markdown",
      "source": "Some of the popular languages that Data Scientists use are:\n\n1. Python\n2. R\n3. SQL\n4. Julia\n",
      "metadata": {}
    },
    {
      "id": "8cd7d46e-a515-4ffa-b462-91923f91350e",
      "cell_type": "markdown",
      "source": "Some of the commonly used libraries used by Data Scientists include:\n\n1. Pandas\n2. NumPy\n3. Scikit-learn\n4. Matplotlib\n",
      "metadata": {}
    },
    {
      "id": "cb90e03e-d20b-4b58-968e-068ec96abd91",
      "cell_type": "markdown",
      "source": "| Data Science Tools |\n|--------------------|\n| Jupyter Notebook   |\n| RStudio            |\n| Apache Spark       |\n",
      "metadata": {}
    },
    {
      "id": "4edb05b6-06ed-4f2e-a880-89e16a8d08ce",
      "cell_type": "markdown",
      "source": "### Below are a few examples of evaluating arithmetic expressions in Python.\n",
      "metadata": {}
    },
    {
      "id": "7ec0a9db-0ee7-471e-8a9a-30ff722b054f",
      "cell_type": "code",
      "source": "# This is a simple arithmetic expression to multiply then add integers\n(3 * 4) + 5\n",
      "metadata": {
        "trusted": true
      },
      "outputs": [
        {
          "execution_count": 2,
          "output_type": "execute_result",
          "data": {
            "text/plain": "17"
          },
          "metadata": {}
        }
      ],
      "execution_count": 2
    },
    {
      "id": "10621c93-c0ab-483a-bbc8-e70492b0b93f",
      "cell_type": "code",
      "source": "# This will convert 200 minutes to hours by dividing by 60\n200 / 60\n",
      "metadata": {
        "trusted": true
      },
      "outputs": [
        {
          "execution_count": 3,
          "output_type": "execute_result",
          "data": {
            "text/plain": "3.3333333333333335"
          },
          "metadata": {}
        }
      ],
      "execution_count": 3
    },
    {
      "id": "9d2b3678-1356-4e70-a7e5-866b70b0774b",
      "cell_type": "markdown",
      "source": "**Objectives:**\n- List popular languages for Data Science\n- Introduce common data science libraries\n- Create simple arithmetic examples\n- Demonstrate Markdown formatting\n- Share notebooks via GitHub\n",
      "metadata": {}
    },
    {
      "id": "9f8cdc8b-7524-4ac5-a921-17bec396c95c",
      "cell_type": "markdown",
      "source": "## Author\nMartín Zambrano\n",
      "metadata": {}
    },
    {
      "id": "180b4592-de9f-41b6-8c5f-def6ec261552",
      "cell_type": "code",
      "source": "",
      "metadata": {
        "trusted": true
      },
      "outputs": [],
      "execution_count": null
    }
  ]
}